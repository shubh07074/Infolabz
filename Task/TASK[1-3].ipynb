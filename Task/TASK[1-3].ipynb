{
 "cells": [
  {
   "cell_type": "code",
   "execution_count": 1,
   "id": "d2e28f22-2bde-478a-917f-e922d0ac8fd6",
   "metadata": {},
   "outputs": [],
   "source": [
    "import requests\n",
    "import numpy as np\n",
    "import pandas as pd"
   ]
  },
  {
   "cell_type": "code",
   "execution_count": 2,
   "id": "9f8397f0-8214-498c-a82e-2f68ab29c485",
   "metadata": {},
   "outputs": [],
   "source": [
    "url =\"https://data.covid19india.org/data.json\""
   ]
  },
  {
   "cell_type": "code",
   "execution_count": 3,
   "id": "521d5d27-e4d5-4962-b94d-5af371805027",
   "metadata": {},
   "outputs": [],
   "source": [
    "response = requests.get(url)"
   ]
  },
  {
   "cell_type": "code",
   "execution_count": 4,
   "id": "eaca039b-83e4-48df-ba48-8d6d006b3e19",
   "metadata": {},
   "outputs": [],
   "source": [
    "coviddata = response.json()"
   ]
  },
  {
   "cell_type": "code",
   "execution_count": 5,
   "id": "b492eb7f-2414-4190-bd44-2d6b9fa8d02a",
   "metadata": {},
   "outputs": [
    {
     "name": "stdout",
     "output_type": "stream",
     "text": [
      "dict_keys(['cases_time_series', 'statewise', 'tested'])\n",
      "3\n"
     ]
    }
   ],
   "source": [
    "print(coviddata.keys())\n",
    "print(len(coviddata.keys()))"
   ]
  },
  {
   "cell_type": "code",
   "execution_count": 6,
   "id": "e693d0b4-24ce-457d-abdb-f0202a3fe68f",
   "metadata": {},
   "outputs": [
    {
     "name": "stdout",
     "output_type": "stream",
     "text": [
      "State Found\n"
     ]
    }
   ],
   "source": [
    "#1. Allow user to search state name. Print state found or not found. \n",
    "state = input(\"Enter your state to be searched: \")\n",
    "\n",
    "state_found = False\n",
    "\n",
    "for i in coviddata[\"statewise\"]:\n",
    "    if i[\"state\"] == state:\n",
    "        print(\"State Found\")\n",
    "        state_found = True\n",
    "        break\n",
    "\n",
    "else:\n",
    "    print(\"State Not Found\")\n"
   ]
  },
  {
   "cell_type": "code",
   "execution_count": 7,
   "id": "8356b5a0-527e-4b66-a2f4-d29c1f8b9693",
   "metadata": {},
   "outputs": [
    {
     "name": "stdout",
     "output_type": "stream",
     "text": [
      "Date found : 23 November 2020\n",
      "The New cases are : 37441\n",
      "The recovered cases are : 42195\n",
      "The Death cases are : 481\n"
     ]
    }
   ],
   "source": [
    "#2. Allow user to search date. If date found print new cases, recovered cases and death cases of that date.\n",
    "date = input(\"Enter the Date you want data of:\")\n",
    "\n",
    "date_found = False\n",
    "\n",
    "for i in coviddata[\"cases_time_series\"]:  \n",
    "  if i[\"date\"]==date:\n",
    "    print(\"Date found :\",i[\"date\"])\n",
    "    print(\"The New cases are :\",i[\"dailyconfirmed\"])\n",
    "    print(\"The recovered cases are :\",i[\"dailyrecovered\"])\n",
    "    print(\"The Death cases are :\",i[\"dailydeceased\"])\n",
    "    date_found = True\n",
    "    break\n",
    "else:\n",
    "  print(\"Date not found\")"
   ]
  },
  {
   "cell_type": "code",
   "execution_count": 8,
   "id": "a9dd9338",
   "metadata": {},
   "outputs": [
    {
     "name": "stdout",
     "output_type": "stream",
     "text": [
      "    active confirmed  deaths deltaconfirmed deltadeaths deltarecovered  \\\n",
      "0   363849  32249900  432112          24692         438          36862   \n",
      "1        1      7549     129              1           0              0   \n",
      "2    17218   1994606   13660            909          13           1543   \n",
      "3     1836     51513     252            165           0            249   \n",
      "4     7707    580657    5502            758          10           1014   \n",
      "5      212    725497    9649             14           0             42   \n",
      "6       43     62031     811              2           0              3   \n",
      "7     1138   1003814   13548             68           1            224   \n",
      "8        8     10660       4              2           0              0   \n",
      "9      467   1437118   25069             27           0             73   \n",
      "10     873    172568    3176             62           5             96   \n",
      "11     184    825196   10078             14           0             13   \n",
      "12     666    770230    9660             22           2             18   \n",
      "13    2695    210419    3535            276           3            334   \n",
      "14    1229    323499    4398             77           1            135   \n",
      "15     236    347620    5131             35           0             13   \n",
      "16   22048   2930529   37007           1065          28           1486   \n",
      "17  172250   3702417   18743          12294         142          18542   \n",
      "18      78     20447     207              0           0              0   \n",
      "19      39     10294      51              6           0              6   \n",
      "20      94    792043   10515              7           1             16   \n",
      "21   62452   6396805  135139           4145         100           5811   \n",
      "22    6270    108545    1716            275           6            546   \n",
      "23    3761     72160    1235            352           8            649   \n",
      "24    8880     48711     184            249           3            954   \n",
      "25    1153     29195     605             44           4            111   \n",
      "26    9020    995433    7006            868          66           1167   \n",
      "27     892    122331    1805             49           0             86   \n",
      "28     557    599972   16344             30           2             48   \n",
      "29     180    953954    8954             11           0             44   \n",
      "30    2068     28726     361             20           0            147   \n",
      "31       0         0       0              0           0              0   \n",
      "32   20370   2590632   34547           1851          28           1911   \n",
      "33    7093    652785    3845            405           3            577   \n",
      "34    1538     81308     778             52           1            223   \n",
      "35     419   1708965   22785             17           1             36   \n",
      "36     342    342606    7371             18           1             54   \n",
      "37    9832   1539065   18312            502           9            691   \n",
      "\n",
      "        lastupdatedtime migratedother recovered  \\\n",
      "0   13/08/2021 23:27:22         12679  31441260   \n",
      "1   13/08/2021 23:27:22             0      7419   \n",
      "2   13/08/2021 23:27:22             0   1963728   \n",
      "3   13/08/2021 23:27:22             0     49425   \n",
      "4   13/08/2021 23:27:22          1347    566101   \n",
      "5   13/08/2021 23:27:22             1    715635   \n",
      "6   13/08/2021 23:27:22             0     61177   \n",
      "7   13/08/2021 23:27:22             0    989128   \n",
      "8   13/08/2021 23:27:22            31     10617   \n",
      "9   13/08/2021 23:27:22             0   1411582   \n",
      "10  13/08/2021 23:27:22             0    168519   \n",
      "11  13/08/2021 23:27:22             0    814934   \n",
      "12  13/08/2021 23:27:22             0    759904   \n",
      "13  13/08/2021 23:27:22            22    204167   \n",
      "14  13/08/2021 23:27:22             0    317872   \n",
      "15  13/08/2021 23:27:22             0    342253   \n",
      "16  13/08/2021 23:27:22            26   2871448   \n",
      "17  13/08/2021 23:27:22           515   3510909   \n",
      "18  13/08/2021 23:27:22             0     20162   \n",
      "19  13/08/2021 23:27:22            40     10164   \n",
      "20  13/08/2021 23:27:22             0    781434   \n",
      "21  13/08/2021 23:27:22          3470   6195744   \n",
      "22  13/08/2021 23:27:22             0    100559   \n",
      "23  13/08/2021 23:27:22             0     67164   \n",
      "24  13/08/2021 23:27:22             0     39647   \n",
      "25  13/08/2021 23:27:22           836     26601   \n",
      "26  13/08/2021 23:27:22             0    979407   \n",
      "27  13/08/2021 23:27:22             0    119634   \n",
      "28  13/08/2021 23:27:22             0    583071   \n",
      "29  13/08/2021 23:27:22             0    944820   \n",
      "30  13/08/2021 23:27:22           279     26018   \n",
      "31  13/08/2021 23:27:22             0         0   \n",
      "32  13/08/2021 23:27:22             0   2535715   \n",
      "33  13/08/2021 23:27:22             0    641847   \n",
      "34  13/08/2021 23:27:22            63     78929   \n",
      "35  13/08/2021 23:27:22             0   1685761   \n",
      "36  13/08/2021 23:27:22          6049    328844   \n",
      "37  13/08/2021 23:27:22             0   1510921   \n",
      "\n",
      "                                       state statecode  \\\n",
      "0                                      Total        TT   \n",
      "1                Andaman and Nicobar Islands        AN   \n",
      "2                             Andhra Pradesh        AP   \n",
      "3                          Arunachal Pradesh        AR   \n",
      "4                                      Assam        AS   \n",
      "5                                      Bihar        BR   \n",
      "6                                 Chandigarh        CH   \n",
      "7                               Chhattisgarh        CT   \n",
      "8   Dadra and Nagar Haveli and Daman and Diu        DN   \n",
      "9                                      Delhi        DL   \n",
      "10                                       Goa        GA   \n",
      "11                                   Gujarat        GJ   \n",
      "12                                   Haryana        HR   \n",
      "13                          Himachal Pradesh        HP   \n",
      "14                         Jammu and Kashmir        JK   \n",
      "15                                 Jharkhand        JH   \n",
      "16                                 Karnataka        KA   \n",
      "17                                    Kerala        KL   \n",
      "18                                    Ladakh        LA   \n",
      "19                               Lakshadweep        LD   \n",
      "20                            Madhya Pradesh        MP   \n",
      "21                               Maharashtra        MH   \n",
      "22                                   Manipur        MN   \n",
      "23                                 Meghalaya        ML   \n",
      "24                                   Mizoram        MZ   \n",
      "25                                  Nagaland        NL   \n",
      "26                                    Odisha        OR   \n",
      "27                                Puducherry        PY   \n",
      "28                                    Punjab        PB   \n",
      "29                                 Rajasthan        RJ   \n",
      "30                                    Sikkim        SK   \n",
      "31                          State Unassigned        UN   \n",
      "32                                Tamil Nadu        TN   \n",
      "33                                 Telangana        TG   \n",
      "34                                   Tripura        TR   \n",
      "35                             Uttar Pradesh        UP   \n",
      "36                               Uttarakhand        UT   \n",
      "37                               West Bengal        WB   \n",
      "\n",
      "                                           statenotes  \n",
      "0                                                      \n",
      "1                                                      \n",
      "2                                                      \n",
      "3   [July 25]: All numbers corresponding to Papum ...  \n",
      "4   [Jan 1]: 1347 cases i.e Covid +'tive patients ...  \n",
      "5   [June 9] : 3951 deceased cases have been repor...  \n",
      "6                                                      \n",
      "7                                                      \n",
      "8                                                      \n",
      "9   [July 14]: Value for the total tests conducted...  \n",
      "10                                                     \n",
      "11                                                     \n",
      "12                                                     \n",
      "13                                                     \n",
      "14                                                     \n",
      "15                                                     \n",
      "16                                                     \n",
      "17                                                     \n",
      "18                                                     \n",
      "19                                                     \n",
      "20  [14 Oct'20]: 4469 confirmed cases and 4469 rec...  \n",
      "21  [Dec 16]:10,218 duplicate cases & other state ...  \n",
      "22  [Dec 14]:824 out of 980 recovered cases are ba...  \n",
      "23                                                     \n",
      "24                                                     \n",
      "25                                                     \n",
      "26  [July 12th] :20 non-covid deaths reported in s...  \n",
      "27                                                     \n",
      "28                                                     \n",
      "29                                                     \n",
      "30                                                     \n",
      "31  MoHFW website reports that these are the 'case...  \n",
      "32  [June 29 2021]: TN has introduced a new distri...  \n",
      "33  [July 27] : Telangana bulletin for the previou...  \n",
      "34  [Aug 4]: Tripura bulletin for the previous day...  \n",
      "35  [Jan 1]:As no bulletin was provided for 31'st ...  \n",
      "36  [Oct 30]: Metric of capturing the testing data...  \n",
      "37                                                     \n"
     ]
    }
   ],
   "source": [
    "#3. Print and store state wise data in excel. \n",
    "statewise_data = pd.DataFrame(coviddata[\"statewise\"])\n",
    "statewise_data.to_excel(\"Covid_statewise_data.xlsx\")\n",
    "print(statewise_data)"
   ]
  }
 ],
 "metadata": {
  "kernelspec": {
   "display_name": "Python 3 (ipykernel)",
   "language": "python",
   "name": "python3"
  },
  "language_info": {
   "codemirror_mode": {
    "name": "ipython",
    "version": 3
   },
   "file_extension": ".py",
   "mimetype": "text/x-python",
   "name": "python",
   "nbconvert_exporter": "python",
   "pygments_lexer": "ipython3",
   "version": "3.12.3"
  }
 },
 "nbformat": 4,
 "nbformat_minor": 5
}
