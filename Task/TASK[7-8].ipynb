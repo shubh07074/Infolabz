{
 "cells": [
  {
   "cell_type": "code",
   "execution_count": 1,
   "metadata": {},
   "outputs": [],
   "source": [
    "import requests"
   ]
  },
  {
   "cell_type": "code",
   "execution_count": 2,
   "metadata": {},
   "outputs": [],
   "source": [
    "url = \"https://isro.vercel.app/api/spacecrafts\""
   ]
  },
  {
   "cell_type": "code",
   "execution_count": 5,
   "metadata": {},
   "outputs": [],
   "source": [
    "response =  requests.get(url)\n",
    "data = response.json()\n"
   ]
  },
  {
   "cell_type": "code",
   "execution_count": 6,
   "metadata": {},
   "outputs": [
    {
     "name": "stdout",
     "output_type": "stream",
     "text": [
      "dict_keys(['spacecrafts'])\n"
     ]
    }
   ],
   "source": [
    "print(data.keys())"
   ]
  },
  {
   "cell_type": "code",
   "execution_count": 7,
   "metadata": {},
   "outputs": [
    {
     "name": "stdout",
     "output_type": "stream",
     "text": [
      "1\n"
     ]
    }
   ],
   "source": [
    "print(len(data.keys()))"
   ]
  },
  {
   "cell_type": "code",
   "execution_count": 8,
   "metadata": {},
   "outputs": [],
   "source": [
    "isro = data['spacecrafts'] # spacecraft is main key of dictionary(API), so we passed it to the isro variable"
   ]
  },
  {
   "cell_type": "code",
   "execution_count": 17,
   "metadata": {},
   "outputs": [
    {
     "name": "stdout",
     "output_type": "stream",
     "text": [
      "Spacecrafts are:\n",
      "Aryabhata\n",
      "Bhaskara-I\n",
      "Rohini Technology Payload (RTP)\n",
      "Rohini Satellite RS-1\n",
      "Rohini Satellite RS-D1\n",
      "APPLE\n",
      "Bhaskara-II\n",
      "INSAT-1A\n",
      "Rohini Satellite RS-D2\n",
      "INSAT-1B\n",
      "SROSS-1\n",
      "IRS-1A\n",
      "SROSS-2\n",
      "INSAT-1C\n",
      "INSAT-1D\n",
      "IRS-1B\n",
      "SROSS-C\n",
      "INSAT-2A\n",
      "INSAT-2B\n",
      "IRS-1E\n",
      "SROSS-C2\n",
      "IRS-P2\n",
      "INSAT-2C\n",
      "IRS-1C\n",
      "IRS-P3\n",
      "INSAT-2D\n",
      "IRS-1D\n",
      "INSAT-2E\n",
      "Oceansat(IRS-P4)\n",
      "INSAT-3B\n",
      "GSAT-1\n",
      "The Technology Experiment Satellite (TES)\n",
      "INSAT-3C\n",
      "KALPANA-1\n",
      "INSAT-3A\n",
      "GSAT-2\n",
      "INSAT-3E\n",
      "IRS-P6 / RESOURCESAT-1\n",
      "EDUSAT\n",
      "HAMSAT\n",
      "CARTOSAT-1\n",
      "INSAT-4A\n",
      "INSAT-4C\n",
      "SRE-1\n",
      "CARTOSAT-2\n",
      "INSAT-4B\n",
      "INSAT-4CR\n",
      "CARTOSAT – 2A\n",
      "IMS-1\n",
      "Chandrayaan-1\n",
      "RISAT-2\n",
      "Oceansat-2\n",
      "GSAT-4\n",
      "CARTOSAT-2B\n",
      "GSAT-5P\n",
      "YOUTHSAT\n",
      "RESOURCESAT-2\n",
      "GSAT-8\n",
      "GSAT-12\n",
      "Megha-Tropiques\n",
      "RISAT-1\n",
      "GSAT-10\n",
      "SARAL\n",
      "IRNSS-1A\n",
      "INSAT-3D\n",
      "GSAT-7\n",
      "Mars Orbiter Mission Spacecraft\n",
      "GSAT-14\n",
      "IRNSS-1B\n",
      "IRNSS-1C\n",
      "GSAT-16\n",
      "Crew module Atmospheric Re-entry Experiment (CARE)\n",
      "IRNSS-1D\n",
      "GSAT-6\n",
      "Astrosat\n",
      "GSAT-15\n",
      "IRNSS-1E\n",
      "IRNSS-1F\n",
      "IRNSS-1G\n",
      "CARTOSAT-2 Series Satellite\n",
      "INSAT-3DR\n",
      "SCATSAT-1\n",
      "GSAT-18\n",
      "RESOURCESAT-2A\n",
      "INS-1B\n",
      "INS-1A\n",
      "Cartosat -2 Series Satellite\n",
      "GSAT-9\n",
      "GSAT-19\n",
      "Cartosat-2 Series Satellite\n",
      "GSAT-17\n",
      "IRNSS-1H\n",
      "INS-1C\n",
      "Cartosat-2 Series Satellite\n",
      "Microsat\n",
      "GSAT-6A\n",
      "IRNSS-1I\n",
      "GSAT-29\n",
      "HysIS\n",
      "GSAT-11 Mission\n",
      "GSAT-7A\n",
      "Microsat-R\n",
      "GSAT-31\n",
      "EMISAT\n",
      "RISAT-2B\n",
      "Chandrayaan2\n",
      "Cartosat-3\n",
      "RISAT-2BR1\n",
      "GSAT-30\n",
      "EOS-01\n",
      "CMS-01\n",
      "EOS-03\n"
     ]
    }
   ],
   "source": [
    "#7. Print all spacecrafts using for loop.\n",
    "print(\"Spacecrafts are:\") \n",
    "for i in isro:\n",
    "  print(i[\"name\"])"
   ]
  },
  {
   "cell_type": "code",
   "execution_count": 19,
   "metadata": {},
   "outputs": [
    {
     "name": "stdout",
     "output_type": "stream",
     "text": [
      "Yes, this space craft IRS-1B  is launched by ISRO\n"
     ]
    }
   ],
   "source": [
    "#8.   Allow user to enter name of space craft. Print whether that space craft is launched by ISRO or not.\n",
    "spaceCraft=input(\"Enter the name of space craft:\")\n",
    "for i in isro:\n",
    "  if i[\"name\"]==spaceCraft:\n",
    "    print(\"Yes, this space craft\",i[\"name\"],\" is launched by ISRO\")\n",
    "    break\n",
    "else:\n",
    "    print(\"No, this space craft\",i[\"name\"],\"is not launched by ISRO\")"
   ]
  }
 ],
 "metadata": {
  "kernelspec": {
   "display_name": "Python 3",
   "language": "python",
   "name": "python3"
  },
  "language_info": {
   "codemirror_mode": {
    "name": "ipython",
    "version": 3
   },
   "file_extension": ".py",
   "mimetype": "text/x-python",
   "name": "python",
   "nbconvert_exporter": "python",
   "pygments_lexer": "ipython3",
   "version": "3.12.3"
  }
 },
 "nbformat": 4,
 "nbformat_minor": 2
}
